{
 "cells": [
  {
   "cell_type": "code",
   "execution_count": 1,
   "metadata": {},
   "outputs": [
    {
     "name": "stdout",
     "output_type": "stream",
     "text": [
      "1463\n",
      "1463\n",
      "1463\n",
      "1463\n",
      "1463\n",
      "1463\n",
      "1463\n",
      "The slowest run took 5.70 times longer than the fastest. This could mean that an intermediate result is being cached.\n",
      "67.9 ms ± 55.1 ms per loop (mean ± std. dev. of 7 runs, 1 loop each)\n"
     ]
    }
   ],
   "source": [
    "%%timeit -n 1\n",
    "from mininterface import run, Mininterface\n",
    "from dataclasses import dataclass\n",
    "from mininterface.interfaces import TextInterface\n",
    "\n",
    "@dataclass\n",
    "class Env:\n",
    "    test: str = \"hello\"\n",
    "run(Env,interface=\"gui\")\n",
    "# sys.modules.clear() would break the IDE testing\n",
    "# if 'mininterface' in sys.modules:  # seems to not remove all the modules imported by the packages\n",
    "    # del sys.modules['mininterface']\n",
    "print(len(sys.modules))\n",
    "\n",
    "# testing method\n",
    "# As it is challenging to get just the import time, I've put print statements in the module being investigated,\n",
    "# did one single test, summed the average with the worst case\n",
    "# `76.8 ms ± 95.9 ms per loop` = 170 ms\n",
    "# and restarted kernel to do few more attempts."
   ]
  }
 ],
 "metadata": {
  "kernelspec": {
   "display_name": "Python 3",
   "language": "python",
   "name": "python3"
  },
  "language_info": {
   "codemirror_mode": {
    "name": "ipython",
    "version": 3
   },
   "file_extension": ".py",
   "mimetype": "text/x-python",
   "name": "python",
   "nbconvert_exporter": "python",
   "pygments_lexer": "ipython3",
   "version": "3.12.3"
  }
 },
 "nbformat": 4,
 "nbformat_minor": 2
}
